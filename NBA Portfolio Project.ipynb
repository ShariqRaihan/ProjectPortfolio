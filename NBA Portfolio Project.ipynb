{
 "cells": [
  {
   "cell_type": "markdown",
   "metadata": {},
   "source": [
    "# Setup and Data    "
   ]
  },
  {
   "cell_type": "code",
   "execution_count": 2,
   "metadata": {},
   "outputs": [],
   "source": [
    "import pandas as pd\n",
    "\n",
    "awards = pd.read_csv(\".../Datasets/awards_data.csv\")\n",
    "player_data = pd.read_csv(\".../Datasets/player_stats.csv\")\n",
    "team_data = pd.read_csv(\".../Datasets/team_stats.csv\")\n",
    "rebounding_data = pd.read_csv(\".../Datasets/team_rebounding_data_22.csv\")"
   ]
  },
  {
   "cell_type": "markdown",
   "metadata": {},
   "source": [
    "What is the average number of points per game for players in the 2007-2021 seasons who won All NBA First, Second, and Third teams (**not** the All Defensive Teams), as well as for players who were in the All-Star Game (**not** the rookie all-star game)?\n",
    "\n",
    "\n",
    " "
   ]
  },
  {
   "cell_type": "code",
   "execution_count": 3,
   "metadata": {
    "jupyter": {
     "outputs_hidden": true
    }
   },
   "outputs": [],
   "source": [
    "playerstats = awards.merge(player_data, on='nbapersonid', how='inner')"
   ]
  },
  {
   "cell_type": "code",
   "execution_count": 4,
   "metadata": {},
   "outputs": [
    {
     "name": "stdout",
     "output_type": "stream",
     "text": [
      "First Team points per game: 22.3096871795066\n",
      "Second Team points per game: 19.602453597125052\n",
      "Third Team points per game: 17.406737392538716\n",
      "All-Star Team points per game: 18.73400715244671\n"
     ]
    }
   ],
   "source": [
    "first_team = playerstats[(playerstats['season_x'] >= 2007) & (playerstats['season_x'] <= 2021) & \n",
    "                         (playerstats['All NBA First Team'] == 1.0)]\n",
    "\n",
    "first_team_ppg = first_team['points'] / first_team['games']\n",
    "\n",
    "print(\"First Team points per game:\",first_team_ppg.mean())\n",
    "\n",
    "\n",
    "\n",
    "sec_team = playerstats[(playerstats['season_x'] >= 2007) & (playerstats['season_x'] <= 2021) & \n",
    "                         (playerstats['All NBA Second Team'] == 1.0)]\n",
    "\n",
    "sec_team_ppg = sec_team['points'] / sec_team['games']\n",
    "\n",
    "print(\"Second Team points per game:\",sec_team_ppg.mean())\n",
    "\n",
    "\n",
    "\n",
    "third_team = playerstats[(playerstats['season_x'] >= 2007) & (playerstats['season_x'] <= 2021) & \n",
    "                         (playerstats['All NBA Third Team'] == 1.0)]\n",
    "\n",
    "third_team_ppg = third_team['points'] / third_team['games']\n",
    "\n",
    "print(\"Third Team points per game:\",third_team_ppg.mean())\n",
    "\n",
    "\n",
    "\n",
    "allstar_team = playerstats[(playerstats['season_x'] >= 2007) & (playerstats['season_x'] <= 2021) & \n",
    "                         (playerstats['all_star_game'])]\n",
    "\n",
    "allstar_team_ppg = allstar_team['points'] / allstar_team['games']\n",
    "\n",
    "print(\"All-Star Team points per game:\",allstar_team_ppg.mean())"
   ]
  },
  {
   "cell_type": "markdown",
   "metadata": {},
   "source": [
    "What was the average number of years of experience in the league it takes for players to make their first All NBA Selection (1st, 2nd, or 3rd team)? Please limit your sample to players drafted in 2007 or later who did eventually go on to win at least one All NBA selection. \n"
   ]
  },
  {
   "cell_type": "code",
   "execution_count": 5,
   "metadata": {
    "jupyter": {
     "outputs_hidden": true
    }
   },
   "outputs": [
    {
     "name": "stdout",
     "output_type": "stream",
     "text": [
      "Average years to first All NBA selection: 4.682926829268292\n"
     ]
    }
   ],
   "source": [
    "allnba_players = playerstats[(playerstats['draftyear'] >= 2007) &\n",
    "                                ((playerstats['All NBA First Team'] == 1.0) |\n",
    "                                 (playerstats['All NBA Second Team'] == 1.0) |\n",
    "                                 (playerstats['All NBA Third Team'] == 1.0))]\n",
    "\n",
    "allnba_columns = ['All NBA First Team', 'All NBA Second Team', 'All NBA Third Team']\n",
    "allnba_players = allnba_players[allnba_players[allnba_columns].sum(axis=1) > 0]\n",
    "\n",
    "\n",
    "first_allnba_years = allnba_players.groupby('nbapersonid')['season_x'].min()\n",
    "\n",
    "years_to_first_allnba = first_allnba_years - allnba_players.groupby('nbapersonid')['draftyear'].min() + 1\n",
    "\n",
    "print(\"Average years to first All NBA selection:\", years_to_first_allnba.mean())"
   ]
  },
  {
   "cell_type": "markdown",
   "metadata": {},
   "source": [
    "## Data Cleaning Interlude  \n",
    "\n",
    "You're going to work to create a dataset with a \"career outcome\" for each player, representing the highest level of success that the player achieved for **at least two** seasons *after his first four seasons in the league*. On a single season level, the outcomes are:  \n",
    "\n",
    "- Elite: A player is \"Elite\" in a season if he won any All NBA award (1st, 2nd, or 3rd team), MVP, or DPOY in that season.    \n",
    "- All-Star: A player is \"All-Star\" in a season if he was selected to be an All-Star that season.   \n",
    "- Starter:  A player is a \"Starter\" in a season if he started in at least 41 games in the season OR if he played at least 2000 minutes in the season.    \n",
    "- Rotation:  A player is a \"Rotation\" player in a season if he played at least 1000 minutes in the season.   \n",
    "- Roster:  A player is a \"Roster\" player in a season if he played at least 1 minute for an NBA team but did not meet any of the above criteria.     \n",
    "- Out of the League: A player is \"Out of the League\" if he is not in the NBA in that season.   \n"
   ]
  },
  {
   "cell_type": "code",
   "execution_count": 6,
   "metadata": {
    "jupyter": {
     "outputs_hidden": true
    },
    "scrolled": false
   },
   "outputs": [
    {
     "name": "stdout",
     "output_type": "stream",
     "text": [
      "Starter              31\n",
      "Roster               20\n",
      "Out of the League    18\n",
      "Elite                 3\n",
      "All-Star              1\n",
      "Name: Career Outcome, dtype: int64\n"
     ]
    }
   ],
   "source": [
    "playerinfo = player_data.merge(awards, on='nbapersonid', how='left')\n",
    "players_2010_draft = playerinfo[playerinfo['draftyear'] == 2010]\n",
    "seasongames = team_data.merge(players_2010_draft, on='nbateamid', how='right')\n",
    "\n",
    "def calculate_career_outcome(player_df):\n",
    "    elite_count = 0\n",
    "    all_star_count = 0\n",
    "    starter_count = 0\n",
    "    rotation_count = 0\n",
    "    roster_count = 0\n",
    "    out_of_league_count = 0\n",
    "    \n",
    "    for index, season in player_df.iterrows():\n",
    "        if index >= 4:\n",
    "\n",
    "            adjusted_minutes = season['mins']\n",
    "            adjusted_games_started = season['games']\n",
    "\n",
    "            if (season['All NBA First Team'] > 0) or (season['All NBA Second Team'] > 0) or (season['All NBA Third Team'] > 0):\n",
    "                elite_count += 1\n",
    "            elif season['all_star_game'] == True:\n",
    "                all_star_count += 1\n",
    "            elif (adjusted_games_started >= 41) or (adjusted_minutes >= 2000):\n",
    "                starter_count += 1\n",
    "            elif adjusted_minutes >= 1000 and adjusted_minutes < 2000:\n",
    "                rotation_count += 1\n",
    "            elif adjusted_minutes >= 1:\n",
    "                roster_count += 1\n",
    "    \n",
    "    if elite_count >= 2:\n",
    "        return \"Elite\"\n",
    "    elif all_star_count >= 2:\n",
    "        return \"All-Star\"\n",
    "    elif starter_count >= 2:\n",
    "        return \"Starter\"\n",
    "    elif rotation_count >= 2:\n",
    "        return \"Rotation\"\n",
    "    elif roster_count >= 2:\n",
    "        return \"Roster\"\n",
    "    else:\n",
    "        return \"Out of the League\"\n",
    "\n",
    "\n",
    "results_list = []\n",
    "\n",
    "\n",
    "for player, data in players_2010_draft.groupby('player'):\n",
    "    career_outcome = calculate_career_outcome(data)\n",
    "    results_list.append({'Player': player, 'Career Outcome': career_outcome})\n",
    "\n",
    "results = pd.DataFrame(results_list)\n",
    "\n",
    "outcome_counts = results['Career Outcome'].value_counts()\n",
    "\n",
    "print(outcome_counts)"
   ]
  },
  {
   "cell_type": "markdown",
   "metadata": {},
   "source": [
    "### Open Ended Modeling\n",
    "\n",
    "Making a prediction on which players drafted in 2018 or later, will make the All-Star Game, using the data of players drafted on or before 2015 to train the model\n"
   ]
  },
  {
   "cell_type": "code",
   "execution_count": 7,
   "metadata": {
    "jupyter": {
     "outputs_hidden": true
    },
    "scrolled": false
   },
   "outputs": [
    {
     "name": "stdout",
     "output_type": "stream",
     "text": [
      "Accuracy: 0.8790214477211796\n",
      "Classification Report:\n",
      "              precision    recall  f1-score   support\n",
      "\n",
      "       False       0.89      0.98      0.93      5102\n",
      "        True       0.70      0.30      0.41       866\n",
      "\n",
      "    accuracy                           0.88      5968\n",
      "   macro avg       0.79      0.64      0.67      5968\n",
      "weighted avg       0.86      0.88      0.86      5968\n",
      "\n",
      "player\n",
      "Ja Morant                  True\n",
      "Luka Doncic                True\n",
      "Luka Dončić                True\n",
      "Shai Gilgeous-Alexander    True\n",
      "Trae Young                 True\n",
      "Zion Williamson            True\n",
      "Name: predicted_all_star, dtype: bool\n"
     ]
    }
   ],
   "source": [
    "import pandas as pd\n",
    "import numpy as np\n",
    "from sklearn.linear_model import LogisticRegression\n",
    "from sklearn.model_selection import train_test_split\n",
    "from sklearn.metrics import accuracy_score, classification_report\n",
    "\n",
    "training_data = playerstats[playerstats['draftyear'] <= 2015].copy()\n",
    "training_data['points_per_game'] = training_data['points'] / training_data['games']\n",
    "\n",
    "X = training_data[['points', 'ast', 'steals', 'blocks', 'tot_reb', 'PER', 'points_per_game']]\n",
    "y = training_data['all_star_game'].copy()  # 1 if a player becomes an All-Star, 0 otherwise\n",
    "y.fillna(False, inplace=True)\n",
    "\n",
    "X_train, X_test, y_train, y_test = train_test_split(X, y, test_size=0.2, random_state=42)\n",
    "\n",
    "model = LogisticRegression(max_iter=1000, random_state=42)\n",
    "model.fit(X_train, y_train)\n",
    "\n",
    "y_pred = model.predict(X_test)\n",
    "\n",
    "accuracy = accuracy_score(y_test, y_pred)\n",
    "report = classification_report(y_test, y_pred)\n",
    "\n",
    "print(f'Accuracy: {accuracy}')\n",
    "print('Classification Report:')\n",
    "print(report)\n",
    "\n",
    "newplayers = playerstats[playerstats['draftyear'] >= 2018].copy()\n",
    "newplayers['points_per_game'] = newplayers['points'] / newplayers['games']\n",
    "new_players_data = newplayers[['points', 'ast', 'steals', 'blocks', 'tot_reb', 'PER', 'points_per_game']]\n",
    "predictions = model.predict(new_players_data)\n",
    "\n",
    "newplayers['predicted_all_star'] = predictions\n",
    "\n",
    "all_star_players = newplayers[newplayers['predicted_all_star'] == True]\n",
    "\n",
    "grouped_players = all_star_players.groupby('player')['predicted_all_star'].max()\n",
    "\n",
    "\n",
    "print(grouped_players)\n"
   ]
  },
  {
   "cell_type": "markdown",
   "metadata": {},
   "source": [
    "## Predicting Team Stats  \n",
    "\n",
    "Calculate what OKC's predicted offensive rebound percent is for game 81 in the data. That is, use games 1-80 to predict game 81.  "
   ]
  },
  {
   "cell_type": "code",
   "execution_count": 8,
   "metadata": {
    "jupyter": {
     "outputs_hidden": true
    }
   },
   "outputs": [
    {
     "name": "stdout",
     "output_type": "stream",
     "text": [
      "Predicted Offensive Rebound Percentage for Game 81: 28.8689755388714\n"
     ]
    }
   ],
   "source": [
    "okc_data = rebounding_data[rebounding_data['team'] == 'OKC']\n",
    "\n",
    "average_offensive_rebound_percent = okc_data.iloc[:80]['offensive_rebounds'].sum() / okc_data.iloc[:80]['off_rebound_chances'].sum()\n",
    "\n",
    "predicted_offensive_rebound_percent = average_offensive_rebound_percent * 100\n",
    "\n",
    "print(\"Predicted Offensive Rebound Percentage for Game 81:\", predicted_offensive_rebound_percent)"
   ]
  }
 ],
 "metadata": {
  "kernelspec": {
   "display_name": "Python 3 (ipykernel)",
   "language": "python",
   "name": "python3"
  },
  "language_info": {
   "codemirror_mode": {
    "name": "ipython",
    "version": 3
   },
   "file_extension": ".py",
   "mimetype": "text/x-python",
   "name": "python",
   "nbconvert_exporter": "python",
   "pygments_lexer": "ipython3",
   "version": "3.11.4"
  }
 },
 "nbformat": 4,
 "nbformat_minor": 4
}
